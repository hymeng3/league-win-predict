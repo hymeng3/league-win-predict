{
 "cells": [
  {
   "cell_type": "code",
   "execution_count": 3,
   "id": "4ff82544-8026-4b77-87ee-17ee1efc05e8",
   "metadata": {},
   "outputs": [
    {
     "name": "stdout",
     "output_type": "stream",
     "text": [
      "/home/henry/Work/ML/league-win-predict\n"
     ]
    }
   ],
   "source": [
    "import os\n",
    "import pandas as pd\n",
    "import numpy as np\n",
    "import matplotlib as plt\n",
    "import tensorflow as tf\n",
    "\n",
    "\n",
    "\n",
    "print(os.getcwd())"
   ]
  },
  {
   "cell_type": "code",
   "execution_count": 12,
   "id": "4ce8cd89-7942-49ff-a2b6-a5a6d87f9ab6",
   "metadata": {},
   "outputs": [
    {
     "name": "stdout",
     "output_type": "stream",
     "text": [
      "Unnamed: 0                              0\n",
      "matchID                    BR1_2720891721\n",
      "fullTimeMS                        2092233\n",
      "timePercent                             6\n",
      "blueChampionKill                        5\n",
      "blueFirstBlood                       True\n",
      "blueDragonKill                          0\n",
      "blueDragonHextechKill                   0\n",
      "blueDragonChemtechKill                  0\n",
      "blueDragonFireKill                      0\n",
      "blueDragonAirKill                       0\n",
      "blueDragonEarthKill                     0\n",
      "blueDragonWaterKill                     0\n",
      "blueDragonElderKill                     0\n",
      "blueRiftHeraldKill                      0\n",
      "blueBaronKill                           0\n",
      "blueTowerKill                           0\n",
      "blueInhibitorKill                       0\n",
      "blueTotalGold                        9299\n",
      "blueMinionsKilled                      85\n",
      "blueJungleMinionsKilled                24\n",
      "blueAvgPlayerLevel                    4.6\n",
      "blueWin                              True\n",
      "redChampionKill                         3\n",
      "redFirstBlood                       False\n",
      "redDragonKill                           0\n",
      "redDragonHextechKill                    0\n",
      "redDragonChemtechKill                   0\n",
      "redDragonFireKill                       0\n",
      "redDragonAirKill                        0\n",
      "redDragonEarthKill                      0\n",
      "redDragonWaterKill                      0\n",
      "redDragonElderKill                      0\n",
      "redRiftHeraldKill                       0\n",
      "redBaronKill                            0\n",
      "redTowerKill                            0\n",
      "redInhibitorKill                        0\n",
      "redTotalGold                         8014\n",
      "redMinionsKilled                       57\n",
      "redJungleMinionsKilled                 30\n",
      "redAvgPlayerLevel                     4.2\n",
      "redWin                              False\n",
      "Name: 0, dtype: object\n"
     ]
    }
   ],
   "source": [
    "# Import data \n",
    "game_state_20 = pd.read_csv('data/full_data_20.csv')\n",
    "game_state_40 = pd.read_csv('data/full_data_40.csv')\n",
    "game_state_60 = pd.read_csv('data/full_data_60.csv')\n",
    "game_state_80 = pd.read_csv('data/full_data_80.csv')\n",
    "game_state_100 = pd.read_csv('data/full_data_100.csv')\n",
    "\n",
    "game_states = [game_state_20, game_state_40, game_state_60, game_state_80, game_state_100]\n",
    "\n",
    "print(game_state_20.iloc[0,:])"
   ]
  },
  {
   "cell_type": "code",
   "execution_count": null,
   "id": "9244d4ef-a30f-4a82-835e-e94196dbc624",
   "metadata": {},
   "outputs": [],
   "source": []
  }
 ],
 "metadata": {
  "kernelspec": {
   "display_name": "Python 3 (ipykernel)",
   "language": "python",
   "name": "python3"
  },
  "language_info": {
   "codemirror_mode": {
    "name": "ipython",
    "version": 3
   },
   "file_extension": ".py",
   "mimetype": "text/x-python",
   "name": "python",
   "nbconvert_exporter": "python",
   "pygments_lexer": "ipython3",
   "version": "3.10.12"
  }
 },
 "nbformat": 4,
 "nbformat_minor": 5
}
