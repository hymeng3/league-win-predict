{
 "cells": [
  {
   "cell_type": "code",
   "execution_count": 1,
   "id": "4ff82544-8026-4b77-87ee-17ee1efc05e8",
   "metadata": {},
   "outputs": [
    {
     "name": "stderr",
     "output_type": "stream",
     "text": [
      "2023-11-22 21:15:39.346967: I external/local_tsl/tsl/cuda/cudart_stub.cc:31] Could not find cuda drivers on your machine, GPU will not be used.\n",
      "2023-11-22 21:15:39.385167: E external/local_xla/xla/stream_executor/cuda/cuda_dnn.cc:9261] Unable to register cuDNN factory: Attempting to register factory for plugin cuDNN when one has already been registered\n",
      "2023-11-22 21:15:39.385197: E external/local_xla/xla/stream_executor/cuda/cuda_fft.cc:607] Unable to register cuFFT factory: Attempting to register factory for plugin cuFFT when one has already been registered\n",
      "2023-11-22 21:15:39.386561: E external/local_xla/xla/stream_executor/cuda/cuda_blas.cc:1515] Unable to register cuBLAS factory: Attempting to register factory for plugin cuBLAS when one has already been registered\n",
      "2023-11-22 21:15:39.392977: I external/local_tsl/tsl/cuda/cudart_stub.cc:31] Could not find cuda drivers on your machine, GPU will not be used.\n",
      "2023-11-22 21:15:39.393305: I tensorflow/core/platform/cpu_feature_guard.cc:182] This TensorFlow binary is optimized to use available CPU instructions in performance-critical operations.\n",
      "To enable the following instructions: AVX2 FMA, in other operations, rebuild TensorFlow with the appropriate compiler flags.\n",
      "2023-11-22 21:15:40.234415: W tensorflow/compiler/tf2tensorrt/utils/py_utils.cc:38] TF-TRT Warning: Could not find TensorRT\n"
     ]
    }
   ],
   "source": [
    "import os\n",
    "import pandas as pd\n",
    "import numpy as np\n",
    "import matplotlib as plt\n",
    "import tensorflow as tf\n",
    "from tqdm import tqdm\n",
    "import utils\n",
    "\n",
    "# Import data \n",
    "game_state_20, game_state_40, game_state_60, game_state_80, game_state_100 = utils.get_inputs()"
   ]
  },
  {
   "cell_type": "code",
   "execution_count": 2,
   "id": "9244d4ef-a30f-4a82-835e-e94196dbc624",
   "metadata": {
    "scrolled": true
   },
   "outputs": [
    {
     "name": "stdout",
     "output_type": "stream",
     "text": [
      "(64556, 36) (51645, 35) (6456, 35) (6455, 35)\n"
     ]
    }
   ],
   "source": [
    "# Prepare training, validation, and test datasets for 20% game time\n",
    "\n",
    "train_frac = 0.8\n",
    "valid_frac = 0.1\n",
    "\n",
    "train_set = game_state_20.sample(frac = 0.8)\n",
    "remaining_set = game_state_20.drop(train_set.index)\n",
    "valid_set = remaining_set.sample(frac = valid_frac / (1 - train_frac))\n",
    "test_set = remaining_set.drop(valid_set.index)\n",
    "\n",
    "# Separate wins\n",
    "train_wins = train_set.pop('blueWin')\n",
    "valid_wins = valid_set.pop('blueWin')\n",
    "test_wins = test_set.pop('blueWin')\n",
    "\n",
    "print(game_state_20.shape, train_set.shape, valid_set.shape, test_set.shape)\n"
   ]
  },
  {
   "cell_type": "code",
   "execution_count": 4,
   "id": "b2d2f6d5-3620-4ba9-9e7c-8691295757c0",
   "metadata": {},
   "outputs": [
    {
     "name": "stdout",
     "output_type": "stream",
     "text": [
      "tf.Tensor([51645    35], shape=(2,), dtype=int32) tf.Tensor([51645], shape=(1,), dtype=int32)\n"
     ]
    }
   ],
   "source": [
    "### Try simple DNN classification\n",
    "\n",
    "# Convert dataframes to tensors\n",
    "train_data = tf.convert_to_tensor(train_set)\n",
    "train_labels = tf.convert_to_tensor(train_wins)\n",
    "\n",
    "valid_data = tf.convert_to_tensor(valid_set)\n",
    "valid_labels = tf.convert_to_tensor(valid_wins)\n",
    "\n",
    "#train_data = train_data[..., tf.newaxis]\n",
    "#valid_data = valid_data[..., tf.newaxis]\n",
    "# Define batches\n",
    "\n",
    "def get_batch(data, labels, batch_size):\n",
    "    return tf.data.Dataset.from_tensor_slices((data, labels)).batch(batch_size)\n",
    "\n",
    "train_batched = get_batch(train_data, train_labels, 64)\n",
    "valid_batched = get_batch(valid_data, valid_labels, 64)\n",
    "\n",
    "print(tf.shape(train_data), tf.shape(train_labels))\n"
   ]
  },
  {
   "cell_type": "code",
   "execution_count": null,
   "id": "6c3595a8-15af-4722-8965-915c91bcdd94",
   "metadata": {},
   "outputs": [
    {
     "name": "stderr",
     "output_type": "stream",
     "text": [
      "  1%|▍                                          | 1/100 [00:02<03:38,  2.21s/it]"
     ]
    },
    {
     "name": "stdout",
     "output_type": "stream",
     "text": [
      "Epoch 1, Loss: 135.4866485595703, Accuracy: 0.012391573749482632, Validation Loss: 133.3809051513672, Validation Accuracy: 0.0\n"
     ]
    },
    {
     "name": "stderr",
     "output_type": "stream",
     "text": [
      "  2%|▊                                          | 2/100 [00:02<02:13,  1.37s/it]"
     ]
    },
    {
     "name": "stdout",
     "output_type": "stream",
     "text": [
      "Epoch 2, Loss: 135.02342224121094, Accuracy: 0.01610904559493065, Validation Loss: 133.60118103027344, Validation Accuracy: 0.0\n"
     ]
    },
    {
     "name": "stderr",
     "output_type": "stream",
     "text": [
      "  3%|█▎                                         | 3/100 [00:03<01:46,  1.10s/it]"
     ]
    },
    {
     "name": "stdout",
     "output_type": "stream",
     "text": [
      "Epoch 3, Loss: 134.68026733398438, Accuracy: 0.01610904559493065, Validation Loss: 132.9066619873047, Validation Accuracy: 0.009900989942252636\n"
     ]
    },
    {
     "name": "stderr",
     "output_type": "stream",
     "text": [
      "  4%|█▋                                         | 4/100 [00:04<01:33,  1.03it/s]"
     ]
    },
    {
     "name": "stdout",
     "output_type": "stream",
     "text": [
      "Epoch 4, Loss: 134.41465759277344, Accuracy: 0.014869888313114643, Validation Loss: 132.76626586914062, Validation Accuracy: 0.009900989942252636\n"
     ]
    },
    {
     "name": "stderr",
     "output_type": "stream",
     "text": [
      "  5%|██▏                                        | 5/100 [00:05<01:25,  1.11it/s]"
     ]
    },
    {
     "name": "stdout",
     "output_type": "stream",
     "text": [
      "Epoch 5, Loss: 134.217041015625, Accuracy: 0.013630731031298637, Validation Loss: 132.36080932617188, Validation Accuracy: 0.009900989942252636\n"
     ]
    },
    {
     "name": "stderr",
     "output_type": "stream",
     "text": [
      "  6%|██▌                                        | 6/100 [00:06<01:20,  1.16it/s]"
     ]
    },
    {
     "name": "stdout",
     "output_type": "stream",
     "text": [
      "Epoch 6, Loss: 134.0821075439453, Accuracy: 0.012391573749482632, Validation Loss: 132.57261657714844, Validation Accuracy: 0.009900989942252636\n"
     ]
    },
    {
     "name": "stderr",
     "output_type": "stream",
     "text": [
      "  7%|███                                        | 7/100 [00:06<01:17,  1.20it/s]"
     ]
    },
    {
     "name": "stdout",
     "output_type": "stream",
     "text": [
      "Epoch 7, Loss: 133.9376220703125, Accuracy: 0.012391573749482632, Validation Loss: 132.12342834472656, Validation Accuracy: 0.009900989942252636\n"
     ]
    },
    {
     "name": "stderr",
     "output_type": "stream",
     "text": [
      "  8%|███▍                                       | 8/100 [00:07<01:15,  1.23it/s]"
     ]
    },
    {
     "name": "stdout",
     "output_type": "stream",
     "text": [
      "Epoch 8, Loss: 133.88865661621094, Accuracy: 0.012391573749482632, Validation Loss: 132.1063690185547, Validation Accuracy: 0.009900989942252636\n"
     ]
    },
    {
     "name": "stderr",
     "output_type": "stream",
     "text": [
      "  9%|███▊                                       | 9/100 [00:08<01:13,  1.24it/s]"
     ]
    },
    {
     "name": "stdout",
     "output_type": "stream",
     "text": [
      "Epoch 9, Loss: 133.94210815429688, Accuracy: 0.011152416467666626, Validation Loss: 132.360107421875, Validation Accuracy: 0.009900989942252636\n"
     ]
    },
    {
     "name": "stderr",
     "output_type": "stream",
     "text": [
      " 10%|████▏                                     | 10/100 [00:09<01:11,  1.26it/s]"
     ]
    },
    {
     "name": "stdout",
     "output_type": "stream",
     "text": [
      "Epoch 10, Loss: 134.04368591308594, Accuracy: 0.013630731031298637, Validation Loss: 132.0482940673828, Validation Accuracy: 0.009900989942252636\n"
     ]
    },
    {
     "name": "stderr",
     "output_type": "stream",
     "text": [
      " 11%|████▌                                     | 11/100 [00:09<01:10,  1.26it/s]"
     ]
    },
    {
     "name": "stdout",
     "output_type": "stream",
     "text": [
      "Epoch 11, Loss: 133.79043579101562, Accuracy: 0.013630731031298637, Validation Loss: 132.0484161376953, Validation Accuracy: 0.009900989942252636\n"
     ]
    },
    {
     "name": "stderr",
     "output_type": "stream",
     "text": [
      " 12%|█████                                     | 12/100 [00:10<01:09,  1.26it/s]"
     ]
    },
    {
     "name": "stdout",
     "output_type": "stream",
     "text": [
      "Epoch 12, Loss: 133.70339965820312, Accuracy: 0.013630731031298637, Validation Loss: 132.07205200195312, Validation Accuracy: 0.009900989942252636\n"
     ]
    },
    {
     "name": "stderr",
     "output_type": "stream",
     "text": [
      " 13%|█████▍                                    | 13/100 [00:11<01:08,  1.27it/s]"
     ]
    },
    {
     "name": "stdout",
     "output_type": "stream",
     "text": [
      "Epoch 13, Loss: 133.68862915039062, Accuracy: 0.012391573749482632, Validation Loss: 131.8603515625, Validation Accuracy: 0.009900989942252636\n"
     ]
    },
    {
     "name": "stderr",
     "output_type": "stream",
     "text": [
      " 14%|█████▉                                    | 14/100 [00:12<01:07,  1.27it/s]"
     ]
    },
    {
     "name": "stdout",
     "output_type": "stream",
     "text": [
      "Epoch 14, Loss: 133.67669677734375, Accuracy: 0.012391573749482632, Validation Loss: 131.9541473388672, Validation Accuracy: 0.009900989942252636\n"
     ]
    },
    {
     "name": "stderr",
     "output_type": "stream",
     "text": [
      " 15%|██████▎                                   | 15/100 [00:13<01:06,  1.28it/s]"
     ]
    },
    {
     "name": "stdout",
     "output_type": "stream",
     "text": [
      "Epoch 15, Loss: 133.60824584960938, Accuracy: 0.00991325918585062, Validation Loss: 131.8675537109375, Validation Accuracy: 0.009900989942252636\n"
     ]
    },
    {
     "name": "stderr",
     "output_type": "stream",
     "text": [
      " 16%|██████▋                                   | 16/100 [00:13<01:05,  1.28it/s]"
     ]
    },
    {
     "name": "stdout",
     "output_type": "stream",
     "text": [
      "Epoch 16, Loss: 133.6483917236328, Accuracy: 0.006195786874741316, Validation Loss: 131.9732208251953, Validation Accuracy: 0.009900989942252636\n"
     ]
    },
    {
     "name": "stderr",
     "output_type": "stream",
     "text": [
      " 17%|███████▏                                  | 17/100 [00:14<01:04,  1.28it/s]"
     ]
    },
    {
     "name": "stdout",
     "output_type": "stream",
     "text": [
      "Epoch 17, Loss: 133.59808349609375, Accuracy: 0.008674101904034615, Validation Loss: 131.93165588378906, Validation Accuracy: 0.009900989942252636\n"
     ]
    },
    {
     "name": "stderr",
     "output_type": "stream",
     "text": [
      " 18%|███████▌                                  | 18/100 [00:15<01:03,  1.29it/s]"
     ]
    },
    {
     "name": "stdout",
     "output_type": "stream",
     "text": [
      "Epoch 18, Loss: 133.6345977783203, Accuracy: 0.0074349441565573215, Validation Loss: 131.82086181640625, Validation Accuracy: 0.009900989942252636\n"
     ]
    },
    {
     "name": "stderr",
     "output_type": "stream",
     "text": [
      " 19%|███████▉                                  | 19/100 [00:16<01:02,  1.29it/s]"
     ]
    },
    {
     "name": "stdout",
     "output_type": "stream",
     "text": [
      "Epoch 19, Loss: 133.6363067626953, Accuracy: 0.0074349441565573215, Validation Loss: 131.9536895751953, Validation Accuracy: 0.009900989942252636\n"
     ]
    },
    {
     "name": "stderr",
     "output_type": "stream",
     "text": [
      " 20%|████████▍                                 | 20/100 [00:16<01:01,  1.29it/s]"
     ]
    },
    {
     "name": "stdout",
     "output_type": "stream",
     "text": [
      "Epoch 20, Loss: 135.1437530517578, Accuracy: 0.011152416467666626, Validation Loss: 133.34471130371094, Validation Accuracy: 0.009900989942252636\n"
     ]
    },
    {
     "name": "stderr",
     "output_type": "stream",
     "text": [
      " 21%|████████▊                                 | 21/100 [00:17<01:01,  1.29it/s]"
     ]
    },
    {
     "name": "stdout",
     "output_type": "stream",
     "text": [
      "Epoch 21, Loss: 134.42642211914062, Accuracy: 0.00991325918585062, Validation Loss: 132.1162872314453, Validation Accuracy: 0.009900989942252636\n"
     ]
    },
    {
     "name": "stderr",
     "output_type": "stream",
     "text": [
      " 22%|█████████▏                                | 22/100 [00:18<01:00,  1.29it/s]"
     ]
    },
    {
     "name": "stdout",
     "output_type": "stream",
     "text": [
      "Epoch 22, Loss: 133.66168212890625, Accuracy: 0.013630731031298637, Validation Loss: 131.9220733642578, Validation Accuracy: 0.009900989942252636\n"
     ]
    },
    {
     "name": "stderr",
     "output_type": "stream",
     "text": [
      " 23%|█████████▋                                | 23/100 [00:19<00:59,  1.29it/s]"
     ]
    },
    {
     "name": "stdout",
     "output_type": "stream",
     "text": [
      "Epoch 23, Loss: 133.56326293945312, Accuracy: 0.013630731031298637, Validation Loss: 131.82293701171875, Validation Accuracy: 0.009900989942252636\n"
     ]
    },
    {
     "name": "stderr",
     "output_type": "stream",
     "text": [
      " 24%|██████████                                | 24/100 [00:20<00:58,  1.29it/s]"
     ]
    },
    {
     "name": "stdout",
     "output_type": "stream",
     "text": [
      "Epoch 24, Loss: 133.52639770507812, Accuracy: 0.00991325918585062, Validation Loss: 131.79876708984375, Validation Accuracy: 0.009900989942252636\n"
     ]
    },
    {
     "name": "stderr",
     "output_type": "stream",
     "text": [
      " 25%|██████████▌                               | 25/100 [00:20<00:58,  1.29it/s]"
     ]
    },
    {
     "name": "stdout",
     "output_type": "stream",
     "text": [
      "Epoch 25, Loss: 133.5132598876953, Accuracy: 0.00991325918585062, Validation Loss: 131.76644897460938, Validation Accuracy: 0.009900989942252636\n"
     ]
    },
    {
     "name": "stderr",
     "output_type": "stream",
     "text": [
      " 26%|██████████▉                               | 26/100 [00:21<00:57,  1.29it/s]"
     ]
    },
    {
     "name": "stdout",
     "output_type": "stream",
     "text": [
      "Epoch 26, Loss: 133.5107879638672, Accuracy: 0.00991325918585062, Validation Loss: 131.7425994873047, Validation Accuracy: 0.009900989942252636\n"
     ]
    },
    {
     "name": "stderr",
     "output_type": "stream",
     "text": [
      " 27%|███████████▎                              | 27/100 [00:22<00:56,  1.29it/s]"
     ]
    },
    {
     "name": "stdout",
     "output_type": "stream",
     "text": [
      "Epoch 27, Loss: 133.5374298095703, Accuracy: 0.00991325918585062, Validation Loss: 131.74136352539062, Validation Accuracy: 0.009900989942252636\n"
     ]
    },
    {
     "name": "stderr",
     "output_type": "stream",
     "text": [
      " 28%|███████████▊                              | 28/100 [00:23<00:56,  1.28it/s]"
     ]
    },
    {
     "name": "stdout",
     "output_type": "stream",
     "text": [
      "Epoch 28, Loss: 133.51329040527344, Accuracy: 0.013630731031298637, Validation Loss: 131.78582763671875, Validation Accuracy: 0.009900989942252636\n"
     ]
    },
    {
     "name": "stderr",
     "output_type": "stream",
     "text": [
      " 29%|████████████▏                             | 29/100 [00:24<00:55,  1.27it/s]"
     ]
    },
    {
     "name": "stdout",
     "output_type": "stream",
     "text": [
      "Epoch 29, Loss: 133.49925231933594, Accuracy: 0.012391573749482632, Validation Loss: 131.71824645996094, Validation Accuracy: 0.009900989942252636\n"
     ]
    },
    {
     "name": "stderr",
     "output_type": "stream",
     "text": [
      " 30%|████████████▌                             | 30/100 [00:24<00:55,  1.27it/s]"
     ]
    },
    {
     "name": "stdout",
     "output_type": "stream",
     "text": [
      "Epoch 30, Loss: 133.49363708496094, Accuracy: 0.011152416467666626, Validation Loss: 131.7110137939453, Validation Accuracy: 0.009900989942252636\n"
     ]
    },
    {
     "name": "stderr",
     "output_type": "stream",
     "text": [
      " 31%|█████████████                             | 31/100 [00:25<00:55,  1.25it/s]"
     ]
    },
    {
     "name": "stdout",
     "output_type": "stream",
     "text": [
      "Epoch 31, Loss: 133.4871063232422, Accuracy: 0.012391573749482632, Validation Loss: 131.7118682861328, Validation Accuracy: 0.009900989942252636\n"
     ]
    },
    {
     "name": "stderr",
     "output_type": "stream",
     "text": [
      " 32%|█████████████▍                            | 32/100 [00:26<00:54,  1.24it/s]"
     ]
    },
    {
     "name": "stdout",
     "output_type": "stream",
     "text": [
      "Epoch 32, Loss: 133.5148468017578, Accuracy: 0.013630731031298637, Validation Loss: 131.70144653320312, Validation Accuracy: 0.009900989942252636\n"
     ]
    },
    {
     "name": "stderr",
     "output_type": "stream",
     "text": [
      " 33%|█████████████▊                            | 33/100 [00:27<00:53,  1.24it/s]"
     ]
    },
    {
     "name": "stdout",
     "output_type": "stream",
     "text": [
      "Epoch 33, Loss: 133.5001220703125, Accuracy: 0.013630731031298637, Validation Loss: 131.69593811035156, Validation Accuracy: 0.009900989942252636\n"
     ]
    },
    {
     "name": "stderr",
     "output_type": "stream",
     "text": [
      " 34%|██████████████▎                           | 34/100 [00:28<00:53,  1.24it/s]"
     ]
    },
    {
     "name": "stdout",
     "output_type": "stream",
     "text": [
      "Epoch 34, Loss: 133.4703369140625, Accuracy: 0.013630731031298637, Validation Loss: 131.7056121826172, Validation Accuracy: 0.009900989942252636\n"
     ]
    },
    {
     "name": "stderr",
     "output_type": "stream",
     "text": [
      " 35%|██████████████▋                           | 35/100 [00:28<00:52,  1.25it/s]"
     ]
    },
    {
     "name": "stdout",
     "output_type": "stream",
     "text": [
      "Epoch 35, Loss: 133.46229553222656, Accuracy: 0.014869888313114643, Validation Loss: 131.6865692138672, Validation Accuracy: 0.009900989942252636\n"
     ]
    },
    {
     "name": "stderr",
     "output_type": "stream",
     "text": [
      " 36%|███████████████                           | 36/100 [00:29<00:51,  1.24it/s]"
     ]
    },
    {
     "name": "stdout",
     "output_type": "stream",
     "text": [
      "Epoch 36, Loss: 133.45742797851562, Accuracy: 0.013630731031298637, Validation Loss: 131.693603515625, Validation Accuracy: 0.009900989942252636\n"
     ]
    },
    {
     "name": "stderr",
     "output_type": "stream",
     "text": [
      " 37%|███████████████▌                          | 37/100 [00:31<01:00,  1.03it/s]"
     ]
    },
    {
     "name": "stdout",
     "output_type": "stream",
     "text": [
      "Epoch 37, Loss: 133.46646118164062, Accuracy: 0.014869888313114643, Validation Loss: 131.67564392089844, Validation Accuracy: 0.009900989942252636\n"
     ]
    }
   ],
   "source": [
    "# Define model\n",
    "class DNNModel(tf.keras.Model):\n",
    "\n",
    "    def __init__(self):\n",
    "        super().__init__()\n",
    "        # Single dense layer\n",
    "        self.layer1 = tf.keras.layers.Dense(35, activation='relu')\n",
    "        self.layer2 = tf.keras.layers.Dense(1)\n",
    "        \n",
    "    def call(self, input):\n",
    "        input = self.layer1(input)\n",
    "        return self.layer2(input)\n",
    "\n",
    "model = DNNModel()\n",
    "\n",
    "# Choose optimizer and loss function\n",
    "optimizer = tf.keras.optimizers.Adam()\n",
    "loss_func = tf.keras.losses.CategoricalCrossentropy()\n",
    "\n",
    "train_loss = tf.keras.metrics.Mean(name='train_loss')\n",
    "train_accuracy = tf.keras.metrics.CategoricalAccuracy(name='train_accuracy')\n",
    "\n",
    "valid_loss = tf.keras.metrics.Mean(name='validation_loss')\n",
    "valid_accuracy = tf.keras.metrics.CategoricalAccuracy(name='validation_accuracy')\n",
    "\n",
    "\n",
    "# Define training step\n",
    "@tf.function\n",
    "def train_step(match_states, outcomes):\n",
    "    with tf.GradientTape() as tape:  \n",
    "        predictions = tf.squeeze(model(match_states))\n",
    "        loss = loss_func(outcomes, predictions)\n",
    "    gradients = tape.gradient(loss, model.trainable_variables)\n",
    "    optimizer.apply_gradients(zip(gradients, model.trainable_variables))\n",
    "\n",
    "    train_loss(loss)\n",
    "    train_accuracy(outcomes, predictions)\n",
    "\n",
    "# Define testing step\n",
    "@tf.function\n",
    "def test_step(match_states, outcomes):\n",
    "    predictions = tf.squeeze(model(match_states))\n",
    "    loss = loss_func(outcomes, predictions)\n",
    "\n",
    "    valid_loss(loss)\n",
    "    valid_accuracy(outcomes, predictions)\n",
    "\n",
    "# Set output\n",
    "output_dir = './output'\n",
    "output_prefix = os.path.join(output_dir, \"DNN_2l_20\")\n",
    "\n",
    "\n",
    "# Run\n",
    "EPOCHS = 100\n",
    "\n",
    "for epoch in tqdm(range(EPOCHS)):\n",
    "    train_loss.reset_states()\n",
    "    train_accuracy.reset_states()\n",
    "    valid_loss.reset_states()\n",
    "    valid_accuracy.reset_states()\n",
    "\n",
    "    for match_states, outcomes in train_batched:\n",
    "        train_step(match_states, outcomes)\n",
    "\n",
    "    for match_states, outcomes in valid_batched:\n",
    "        test_step(match_states, outcomes)\n",
    "\n",
    "    if epoch % 10 == 0:\n",
    "        model.save_weights(output_prefix)\n",
    "\n",
    "    print(\n",
    "    f'Epoch {epoch + 1}, '\n",
    "    f'Loss: {train_loss.result()}, '\n",
    "    f'Accuracy: {train_accuracy.result()}, '\n",
    "    f'Validation Loss: {valid_loss.result()}, '\n",
    "    f'Validation Accuracy: {valid_accuracy.result()}'\n",
    "  )\n",
    "\n",
    "model.save_weights(output_prefix)"
   ]
  },
  {
   "cell_type": "code",
   "execution_count": null,
   "id": "00c8fcc6-ab7f-456a-ab6a-6cbc072e5998",
   "metadata": {},
   "outputs": [],
   "source": []
  }
 ],
 "metadata": {
  "kernelspec": {
   "display_name": "Python 3 (ipykernel)",
   "language": "python",
   "name": "python3"
  },
  "language_info": {
   "codemirror_mode": {
    "name": "ipython",
    "version": 3
   },
   "file_extension": ".py",
   "mimetype": "text/x-python",
   "name": "python",
   "nbconvert_exporter": "python",
   "pygments_lexer": "ipython3",
   "version": "3.10.12"
  }
 },
 "nbformat": 4,
 "nbformat_minor": 5
}
