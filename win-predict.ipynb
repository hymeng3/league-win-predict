{
 "cells": [
  {
   "cell_type": "code",
   "execution_count": 79,
   "id": "4ff82544-8026-4b77-87ee-17ee1efc05e8",
   "metadata": {},
   "outputs": [],
   "source": [
    "import os\n",
    "import pandas as pd\n",
    "import numpy as np\n",
    "import matplotlib as plt\n",
    "import tensorflow as tf\n",
    "from tqdm import tqdm"
   ]
  },
  {
   "cell_type": "code",
   "execution_count": 80,
   "id": "4ce8cd89-7942-49ff-a2b6-a5a6d87f9ab6",
   "metadata": {},
   "outputs": [],
   "source": [
    "# Import data \n",
    "game_state_20 = pd.read_csv('data/full_data_20.csv')\n",
    "game_state_40 = pd.read_csv('data/full_data_40.csv')\n",
    "game_state_60 = pd.read_csv('data/full_data_60.csv')\n",
    "game_state_80 = pd.read_csv('data/full_data_80.csv')\n",
    "game_state_100 = pd.read_csv('data/full_data_100.csv')\n",
    "\n",
    "game_states = [game_state_20, game_state_40, game_state_60, game_state_80, game_state_100]\n",
    "\n",
    "# Check data format and for missing values\n",
    "\n",
    "#print(game_state_20.dtypes)\n",
    "#for df in game_states:\n",
    "#   print(df.shape)\n",
    "#   print(df.isnull().sum())\n",
    "\n",
    "# Remove total game time, remaining time, winner, and redundant columns\n",
    "for df in game_states:\n",
    "    df.drop(columns=['Unnamed: 0', 'matchID', 'fullTimeMS', 'timePercent', 'redFirstBlood', 'redWin'], inplace=True)\n",
    "    df['blueFirstBlood'] = df['blueFirstBlood'].astype(int)"
   ]
  },
  {
   "cell_type": "code",
   "execution_count": 81,
   "id": "9244d4ef-a30f-4a82-835e-e94196dbc624",
   "metadata": {
    "scrolled": true
   },
   "outputs": [
    {
     "name": "stdout",
     "output_type": "stream",
     "text": [
      "(64556, 36) (51645, 35) (6456, 35) (6455, 35)\n"
     ]
    }
   ],
   "source": [
    "# Prepare training, validation, and test datasets for 20% game time\n",
    "\n",
    "train_frac = 0.8\n",
    "valid_frac = 0.1\n",
    "\n",
    "train_set = game_state_20.sample(frac = 0.8)\n",
    "remaining_set = game_state_20.drop(train_set.index)\n",
    "valid_set = remaining_set.sample(frac = valid_frac / (1 - train_frac))\n",
    "test_set = remaining_set.drop(valid_set.index)\n",
    "\n",
    "# Separate wins\n",
    "train_wins = train_set.pop('blueWin')\n",
    "valid_wins = valid_set.pop('blueWin')\n",
    "test_wins = test_set.pop('blueWin')\n",
    "\n",
    "print(game_state_20.shape, train_set.shape, valid_set.shape, test_set.shape)\n"
   ]
  },
  {
   "cell_type": "code",
   "execution_count": 108,
   "id": "b2d2f6d5-3620-4ba9-9e7c-8691295757c0",
   "metadata": {},
   "outputs": [
    {
     "name": "stdout",
     "output_type": "stream",
     "text": [
      "tf.Tensor([51645    35], shape=(2,), dtype=int32) tf.Tensor([51645], shape=(1,), dtype=int32)\n"
     ]
    }
   ],
   "source": [
    "### Try simple DNN classification\n",
    "\n",
    "# Convert dataframes to tensors\n",
    "train_data = tf.convert_to_tensor(train_set)\n",
    "train_labels = tf.convert_to_tensor(train_wins)\n",
    "\n",
    "valid_data = tf.convert_to_tensor(valid_set)\n",
    "valid_labels = tf.convert_to_tensor(valid_wins)\n",
    "\n",
    "#train_data = train_data[..., tf.newaxis]\n",
    "#valid_data = valid_data[..., tf.newaxis]\n",
    "# Define batches\n",
    "\n",
    "def get_batch(data, labels, batch_size):\n",
    "    return tf.data.Dataset.from_tensor_slices((data, labels)).batch(batch_size)\n",
    "\n",
    "train_batched = get_batch(train_data, train_labels, 64)\n",
    "valid_batched = get_batch(valid_data, valid_labels, 64)\n",
    "\n",
    "print(tf.shape(train_data), tf.shape(train_labels))\n"
   ]
  },
  {
   "cell_type": "code",
   "execution_count": 119,
   "id": "6c3595a8-15af-4722-8965-915c91bcdd94",
   "metadata": {},
   "outputs": [
    {
     "name": "stderr",
     "output_type": "stream",
     "text": [
      "  1%|▋                                                                   | 1/100 [00:02<03:26,  2.09s/it]"
     ]
    },
    {
     "name": "stdout",
     "output_type": "stream",
     "text": [
      "Epoch 1, Loss: 134.55580139160156, Accuracy: 0.01610904559493065, Validation Loss: 135.95675659179688, Validation Accuracy: 0.009900989942252636\n"
     ]
    },
    {
     "name": "stderr",
     "output_type": "stream",
     "text": [
      "  2%|█▎                                                                  | 2/100 [00:03<02:19,  1.42s/it]"
     ]
    },
    {
     "name": "stdout",
     "output_type": "stream",
     "text": [
      "Epoch 2, Loss: 133.5020751953125, Accuracy: 0.022304832935333252, Validation Loss: 135.41644287109375, Validation Accuracy: 0.009900989942252636\n"
     ]
    },
    {
     "name": "stderr",
     "output_type": "stream",
     "text": [
      "  3%|██                                                                  | 3/100 [00:04<01:57,  1.21s/it]"
     ]
    },
    {
     "name": "stdout",
     "output_type": "stream",
     "text": [
      "Epoch 3, Loss: 133.20843505859375, Accuracy: 0.023543989285826683, Validation Loss: 135.21446228027344, Validation Accuracy: 0.019801979884505272\n"
     ]
    },
    {
     "name": "stderr",
     "output_type": "stream",
     "text": [
      "  4%|██▋                                                                 | 4/100 [00:04<01:46,  1.11s/it]"
     ]
    },
    {
     "name": "stdout",
     "output_type": "stream",
     "text": [
      "Epoch 4, Loss: 132.9770050048828, Accuracy: 0.026022305712103844, Validation Loss: 135.07618713378906, Validation Accuracy: 0.019801979884505272\n"
     ]
    },
    {
     "name": "stderr",
     "output_type": "stream",
     "text": [
      "  5%|███▍                                                                | 5/100 [00:05<01:39,  1.04s/it]"
     ]
    },
    {
     "name": "stdout",
     "output_type": "stream",
     "text": [
      "Epoch 5, Loss: 132.8715057373047, Accuracy: 0.027261462062597275, Validation Loss: 135.0971221923828, Validation Accuracy: 0.0\n"
     ]
    },
    {
     "name": "stderr",
     "output_type": "stream",
     "text": [
      "  6%|████                                                                | 6/100 [00:06<01:33,  1.00it/s]"
     ]
    },
    {
     "name": "stdout",
     "output_type": "stream",
     "text": [
      "Epoch 6, Loss: 132.80859375, Accuracy: 0.024783147498965263, Validation Loss: 135.1024169921875, Validation Accuracy: 0.019801979884505272\n"
     ]
    },
    {
     "name": "stderr",
     "output_type": "stream",
     "text": [
      "  7%|████▊                                                               | 7/100 [00:07<01:30,  1.03it/s]"
     ]
    },
    {
     "name": "stdout",
     "output_type": "stream",
     "text": [
      "Epoch 7, Loss: 132.72006225585938, Accuracy: 0.026022305712103844, Validation Loss: 134.9937286376953, Validation Accuracy: 0.0\n"
     ]
    },
    {
     "name": "stderr",
     "output_type": "stream",
     "text": [
      "  8%|█████▍                                                              | 8/100 [00:08<01:27,  1.05it/s]"
     ]
    },
    {
     "name": "stdout",
     "output_type": "stream",
     "text": [
      "Epoch 8, Loss: 132.6326141357422, Accuracy: 0.027261462062597275, Validation Loss: 134.93600463867188, Validation Accuracy: 0.0\n"
     ]
    },
    {
     "name": "stderr",
     "output_type": "stream",
     "text": [
      "  9%|██████                                                              | 9/100 [00:09<01:31,  1.01s/it]"
     ]
    },
    {
     "name": "stdout",
     "output_type": "stream",
     "text": [
      "Epoch 9, Loss: 132.64077758789062, Accuracy: 0.024783147498965263, Validation Loss: 135.0449676513672, Validation Accuracy: 0.009900989942252636\n"
     ]
    },
    {
     "name": "stderr",
     "output_type": "stream",
     "text": [
      " 10%|██████▋                                                            | 10/100 [00:11<01:41,  1.12s/it]"
     ]
    },
    {
     "name": "stdout",
     "output_type": "stream",
     "text": [
      "Epoch 10, Loss: 132.71585083007812, Accuracy: 0.01982651837170124, Validation Loss: 134.9984588623047, Validation Accuracy: 0.019801979884505272\n"
     ]
    },
    {
     "name": "stderr",
     "output_type": "stream",
     "text": [
      " 11%|███████▎                                                           | 11/100 [00:12<01:42,  1.16s/it]"
     ]
    },
    {
     "name": "stdout",
     "output_type": "stream",
     "text": [
      "Epoch 11, Loss: 132.5888671875, Accuracy: 0.01734820380806923, Validation Loss: 135.0037078857422, Validation Accuracy: 0.009900989942252636\n"
     ]
    },
    {
     "name": "stderr",
     "output_type": "stream",
     "text": [
      " 12%|████████                                                           | 12/100 [00:13<01:39,  1.13s/it]"
     ]
    },
    {
     "name": "stdout",
     "output_type": "stream",
     "text": [
      "Epoch 12, Loss: 132.60354614257812, Accuracy: 0.02106567472219467, Validation Loss: 134.9600067138672, Validation Accuracy: 0.0\n"
     ]
    },
    {
     "name": "stderr",
     "output_type": "stream",
     "text": [
      " 13%|████████▋                                                          | 13/100 [00:14<01:39,  1.15s/it]"
     ]
    },
    {
     "name": "stdout",
     "output_type": "stream",
     "text": [
      "Epoch 13, Loss: 132.60516357421875, Accuracy: 0.024783147498965263, Validation Loss: 134.9365234375, Validation Accuracy: 0.0\n"
     ]
    },
    {
     "name": "stderr",
     "output_type": "stream",
     "text": [
      " 14%|█████████▍                                                         | 14/100 [00:16<01:45,  1.23s/it]"
     ]
    },
    {
     "name": "stdout",
     "output_type": "stream",
     "text": [
      "Epoch 14, Loss: 132.59805297851562, Accuracy: 0.01982651837170124, Validation Loss: 134.92088317871094, Validation Accuracy: 0.009900989942252636\n"
     ]
    },
    {
     "name": "stderr",
     "output_type": "stream",
     "text": [
      " 15%|██████████                                                         | 15/100 [00:17<01:46,  1.25s/it]"
     ]
    },
    {
     "name": "stdout",
     "output_type": "stream",
     "text": [
      "Epoch 15, Loss: 132.59542846679688, Accuracy: 0.024783147498965263, Validation Loss: 135.03890991210938, Validation Accuracy: 0.0\n"
     ]
    },
    {
     "name": "stderr",
     "output_type": "stream",
     "text": [
      " 16%|██████████▋                                                        | 16/100 [00:18<01:44,  1.24s/it]"
     ]
    },
    {
     "name": "stdout",
     "output_type": "stream",
     "text": [
      "Epoch 16, Loss: 132.56585693359375, Accuracy: 0.01982651837170124, Validation Loss: 134.9145050048828, Validation Accuracy: 0.009900989942252636\n"
     ]
    },
    {
     "name": "stderr",
     "output_type": "stream",
     "text": [
      " 17%|███████████▍                                                       | 17/100 [00:19<01:45,  1.27s/it]"
     ]
    },
    {
     "name": "stdout",
     "output_type": "stream",
     "text": [
      "Epoch 17, Loss: 132.54530334472656, Accuracy: 0.022304832935333252, Validation Loss: 134.89451599121094, Validation Accuracy: 0.0\n"
     ]
    },
    {
     "name": "stderr",
     "output_type": "stream",
     "text": [
      " 18%|████████████                                                       | 18/100 [00:22<02:18,  1.69s/it]"
     ]
    },
    {
     "name": "stdout",
     "output_type": "stream",
     "text": [
      "Epoch 18, Loss: 132.5390167236328, Accuracy: 0.02106567472219467, Validation Loss: 134.880615234375, Validation Accuracy: 0.009900989942252636\n"
     ]
    },
    {
     "name": "stderr",
     "output_type": "stream",
     "text": [
      " 19%|████████████▋                                                      | 19/100 [00:23<02:06,  1.56s/it]"
     ]
    },
    {
     "name": "stdout",
     "output_type": "stream",
     "text": [
      "Epoch 19, Loss: 132.5314178466797, Accuracy: 0.022304832935333252, Validation Loss: 134.96829223632812, Validation Accuracy: 0.019801979884505272\n"
     ]
    },
    {
     "name": "stderr",
     "output_type": "stream",
     "text": [
      " 20%|█████████████▍                                                     | 20/100 [00:25<02:01,  1.52s/it]"
     ]
    },
    {
     "name": "stdout",
     "output_type": "stream",
     "text": [
      "Epoch 20, Loss: 132.53549194335938, Accuracy: 0.022304832935333252, Validation Loss: 134.90101623535156, Validation Accuracy: 0.009900989942252636\n"
     ]
    },
    {
     "name": "stderr",
     "output_type": "stream",
     "text": [
      " 21%|██████████████                                                     | 21/100 [00:26<01:56,  1.48s/it]"
     ]
    },
    {
     "name": "stdout",
     "output_type": "stream",
     "text": [
      "Epoch 21, Loss: 132.51577758789062, Accuracy: 0.01734820380806923, Validation Loss: 134.8861083984375, Validation Accuracy: 0.0\n"
     ]
    },
    {
     "name": "stderr",
     "output_type": "stream",
     "text": [
      " 22%|██████████████▋                                                    | 22/100 [00:27<01:47,  1.38s/it]"
     ]
    },
    {
     "name": "stdout",
     "output_type": "stream",
     "text": [
      "Epoch 22, Loss: 132.5179901123047, Accuracy: 0.01982651837170124, Validation Loss: 134.8970489501953, Validation Accuracy: 0.0\n"
     ]
    },
    {
     "name": "stderr",
     "output_type": "stream",
     "text": [
      " 23%|███████████████▍                                                   | 23/100 [00:28<01:35,  1.25s/it]"
     ]
    },
    {
     "name": "stdout",
     "output_type": "stream",
     "text": [
      "Epoch 23, Loss: 132.5216827392578, Accuracy: 0.01734820380806923, Validation Loss: 134.94744873046875, Validation Accuracy: 0.019801979884505272\n"
     ]
    },
    {
     "name": "stderr",
     "output_type": "stream",
     "text": [
      " 24%|████████████████                                                   | 24/100 [00:29<01:27,  1.15s/it]"
     ]
    },
    {
     "name": "stdout",
     "output_type": "stream",
     "text": [
      "Epoch 24, Loss: 132.49267578125, Accuracy: 0.02106567472219467, Validation Loss: 135.06411743164062, Validation Accuracy: 0.019801979884505272\n"
     ]
    },
    {
     "name": "stderr",
     "output_type": "stream",
     "text": [
      " 25%|████████████████▊                                                  | 25/100 [00:30<01:20,  1.08s/it]"
     ]
    },
    {
     "name": "stdout",
     "output_type": "stream",
     "text": [
      "Epoch 25, Loss: 132.49549865722656, Accuracy: 0.02106567472219467, Validation Loss: 134.864990234375, Validation Accuracy: 0.009900989942252636\n"
     ]
    },
    {
     "name": "stderr",
     "output_type": "stream",
     "text": [
      " 26%|█████████████████▍                                                 | 26/100 [00:31<01:16,  1.03s/it]"
     ]
    },
    {
     "name": "stdout",
     "output_type": "stream",
     "text": [
      "Epoch 26, Loss: 132.49615478515625, Accuracy: 0.01982651837170124, Validation Loss: 134.87010192871094, Validation Accuracy: 0.009900989942252636\n"
     ]
    },
    {
     "name": "stderr",
     "output_type": "stream",
     "text": [
      " 27%|██████████████████                                                 | 27/100 [00:32<01:12,  1.00it/s]"
     ]
    },
    {
     "name": "stdout",
     "output_type": "stream",
     "text": [
      "Epoch 27, Loss: 132.48019409179688, Accuracy: 0.01734820380806923, Validation Loss: 134.86207580566406, Validation Accuracy: 0.019801979884505272\n"
     ]
    },
    {
     "name": "stderr",
     "output_type": "stream",
     "text": [
      " 28%|██████████████████▊                                                | 28/100 [00:33<01:10,  1.02it/s]"
     ]
    },
    {
     "name": "stdout",
     "output_type": "stream",
     "text": [
      "Epoch 28, Loss: 132.47824096679688, Accuracy: 0.01858736015856266, Validation Loss: 134.89405822753906, Validation Accuracy: 0.009900989942252636\n"
     ]
    },
    {
     "name": "stderr",
     "output_type": "stream",
     "text": [
      " 29%|███████████████████▍                                               | 29/100 [00:34<01:08,  1.04it/s]"
     ]
    },
    {
     "name": "stdout",
     "output_type": "stream",
     "text": [
      "Epoch 29, Loss: 132.49290466308594, Accuracy: 0.022304832935333252, Validation Loss: 135.0134735107422, Validation Accuracy: 0.019801979884505272\n"
     ]
    },
    {
     "name": "stderr",
     "output_type": "stream",
     "text": [
      " 30%|████████████████████                                               | 30/100 [00:35<01:06,  1.05it/s]"
     ]
    },
    {
     "name": "stdout",
     "output_type": "stream",
     "text": [
      "Epoch 30, Loss: 132.47511291503906, Accuracy: 0.01858736015856266, Validation Loss: 134.89163208007812, Validation Accuracy: 0.009900989942252636\n"
     ]
    },
    {
     "name": "stderr",
     "output_type": "stream",
     "text": [
      " 31%|████████████████████▊                                              | 31/100 [00:36<01:05,  1.06it/s]"
     ]
    },
    {
     "name": "stdout",
     "output_type": "stream",
     "text": [
      "Epoch 31, Loss: 132.4541778564453, Accuracy: 0.01858736015856266, Validation Loss: 135.0269317626953, Validation Accuracy: 0.019801979884505272\n"
     ]
    },
    {
     "name": "stderr",
     "output_type": "stream",
     "text": [
      " 32%|█████████████████████▍                                             | 32/100 [00:37<01:03,  1.06it/s]"
     ]
    },
    {
     "name": "stdout",
     "output_type": "stream",
     "text": [
      "Epoch 32, Loss: 132.47265625, Accuracy: 0.01982651837170124, Validation Loss: 134.9237823486328, Validation Accuracy: 0.019801979884505272\n"
     ]
    },
    {
     "name": "stderr",
     "output_type": "stream",
     "text": [
      " 33%|██████████████████████                                             | 33/100 [00:37<01:02,  1.07it/s]"
     ]
    },
    {
     "name": "stdout",
     "output_type": "stream",
     "text": [
      "Epoch 33, Loss: 132.46253967285156, Accuracy: 0.01734820380806923, Validation Loss: 134.8304901123047, Validation Accuracy: 0.0\n"
     ]
    },
    {
     "name": "stderr",
     "output_type": "stream",
     "text": [
      " 34%|██████████████████████▊                                            | 34/100 [00:38<01:01,  1.07it/s]"
     ]
    },
    {
     "name": "stdout",
     "output_type": "stream",
     "text": [
      "Epoch 34, Loss: 132.4447479248047, Accuracy: 0.02106567472219467, Validation Loss: 134.92970275878906, Validation Accuracy: 0.019801979884505272\n"
     ]
    },
    {
     "name": "stderr",
     "output_type": "stream",
     "text": [
      " 35%|███████████████████████▍                                           | 35/100 [00:39<01:00,  1.07it/s]"
     ]
    },
    {
     "name": "stdout",
     "output_type": "stream",
     "text": [
      "Epoch 35, Loss: 132.4332733154297, Accuracy: 0.02106567472219467, Validation Loss: 134.83688354492188, Validation Accuracy: 0.019801979884505272\n"
     ]
    },
    {
     "name": "stderr",
     "output_type": "stream",
     "text": [
      " 36%|████████████████████████                                           | 36/100 [00:40<00:59,  1.07it/s]"
     ]
    },
    {
     "name": "stdout",
     "output_type": "stream",
     "text": [
      "Epoch 36, Loss: 132.43003845214844, Accuracy: 0.01858736015856266, Validation Loss: 134.8914337158203, Validation Accuracy: 0.029702970758080482\n"
     ]
    },
    {
     "name": "stderr",
     "output_type": "stream",
     "text": [
      " 37%|████████████████████████▊                                          | 37/100 [00:41<00:58,  1.07it/s]"
     ]
    },
    {
     "name": "stdout",
     "output_type": "stream",
     "text": [
      "Epoch 37, Loss: 132.4374542236328, Accuracy: 0.01734820380806923, Validation Loss: 134.87281799316406, Validation Accuracy: 0.019801979884505272\n"
     ]
    },
    {
     "name": "stderr",
     "output_type": "stream",
     "text": [
      " 38%|█████████████████████████▍                                         | 38/100 [00:42<00:57,  1.08it/s]"
     ]
    },
    {
     "name": "stdout",
     "output_type": "stream",
     "text": [
      "Epoch 38, Loss: 132.424560546875, Accuracy: 0.01610904559493065, Validation Loss: 134.82571411132812, Validation Accuracy: 0.019801979884505272\n"
     ]
    },
    {
     "name": "stderr",
     "output_type": "stream",
     "text": [
      " 39%|██████████████████████████▏                                        | 39/100 [00:43<00:56,  1.08it/s]"
     ]
    },
    {
     "name": "stdout",
     "output_type": "stream",
     "text": [
      "Epoch 39, Loss: 132.4295654296875, Accuracy: 0.022304832935333252, Validation Loss: 134.8204345703125, Validation Accuracy: 0.019801979884505272\n"
     ]
    },
    {
     "name": "stderr",
     "output_type": "stream",
     "text": [
      " 40%|██████████████████████████▊                                        | 40/100 [00:44<00:55,  1.08it/s]"
     ]
    },
    {
     "name": "stdout",
     "output_type": "stream",
     "text": [
      "Epoch 40, Loss: 132.42405700683594, Accuracy: 0.01610904559493065, Validation Loss: 134.83648681640625, Validation Accuracy: 0.019801979884505272\n"
     ]
    },
    {
     "name": "stderr",
     "output_type": "stream",
     "text": [
      " 41%|███████████████████████████▍                                       | 41/100 [00:45<00:54,  1.07it/s]"
     ]
    },
    {
     "name": "stdout",
     "output_type": "stream",
     "text": [
      "Epoch 41, Loss: 132.42236328125, Accuracy: 0.022304832935333252, Validation Loss: 134.82821655273438, Validation Accuracy: 0.019801979884505272\n"
     ]
    },
    {
     "name": "stderr",
     "output_type": "stream",
     "text": [
      " 42%|████████████████████████████▏                                      | 42/100 [00:46<00:53,  1.08it/s]"
     ]
    },
    {
     "name": "stdout",
     "output_type": "stream",
     "text": [
      "Epoch 42, Loss: 132.41505432128906, Accuracy: 0.022304832935333252, Validation Loss: 134.88514709472656, Validation Accuracy: 0.029702970758080482\n"
     ]
    },
    {
     "name": "stderr",
     "output_type": "stream",
     "text": [
      " 43%|████████████████████████████▊                                      | 43/100 [00:47<00:52,  1.08it/s]"
     ]
    },
    {
     "name": "stdout",
     "output_type": "stream",
     "text": [
      "Epoch 43, Loss: 132.41368103027344, Accuracy: 0.01734820380806923, Validation Loss: 134.88363647460938, Validation Accuracy: 0.019801979884505272\n"
     ]
    },
    {
     "name": "stderr",
     "output_type": "stream",
     "text": [
      " 44%|█████████████████████████████▍                                     | 44/100 [00:48<00:51,  1.08it/s]"
     ]
    },
    {
     "name": "stdout",
     "output_type": "stream",
     "text": [
      "Epoch 44, Loss: 132.4256134033203, Accuracy: 0.02106567472219467, Validation Loss: 134.86390686035156, Validation Accuracy: 0.019801979884505272\n"
     ]
    },
    {
     "name": "stderr",
     "output_type": "stream",
     "text": [
      " 45%|██████████████████████████████▏                                    | 45/100 [00:49<00:50,  1.09it/s]"
     ]
    },
    {
     "name": "stdout",
     "output_type": "stream",
     "text": [
      "Epoch 45, Loss: 132.4242401123047, Accuracy: 0.014869888313114643, Validation Loss: 134.8531494140625, Validation Accuracy: 0.019801979884505272\n"
     ]
    },
    {
     "name": "stderr",
     "output_type": "stream",
     "text": [
      " 46%|██████████████████████████████▊                                    | 46/100 [00:49<00:49,  1.08it/s]"
     ]
    },
    {
     "name": "stdout",
     "output_type": "stream",
     "text": [
      "Epoch 46, Loss: 132.40701293945312, Accuracy: 0.024783147498965263, Validation Loss: 134.92181396484375, Validation Accuracy: 0.029702970758080482\n"
     ]
    },
    {
     "name": "stderr",
     "output_type": "stream",
     "text": [
      " 47%|███████████████████████████████▍                                   | 47/100 [00:50<00:49,  1.08it/s]"
     ]
    },
    {
     "name": "stdout",
     "output_type": "stream",
     "text": [
      "Epoch 47, Loss: 132.3991241455078, Accuracy: 0.01734820380806923, Validation Loss: 135.0291290283203, Validation Accuracy: 0.029702970758080482\n"
     ]
    },
    {
     "name": "stderr",
     "output_type": "stream",
     "text": [
      " 48%|████████████████████████████████▏                                  | 48/100 [00:51<00:48,  1.08it/s]"
     ]
    },
    {
     "name": "stdout",
     "output_type": "stream",
     "text": [
      "Epoch 48, Loss: 132.412353515625, Accuracy: 0.01858736015856266, Validation Loss: 134.84519958496094, Validation Accuracy: 0.019801979884505272\n"
     ]
    },
    {
     "name": "stderr",
     "output_type": "stream",
     "text": [
      " 49%|████████████████████████████████▊                                  | 49/100 [00:52<00:47,  1.08it/s]"
     ]
    },
    {
     "name": "stdout",
     "output_type": "stream",
     "text": [
      "Epoch 49, Loss: 132.39781188964844, Accuracy: 0.01982651837170124, Validation Loss: 134.88064575195312, Validation Accuracy: 0.019801979884505272\n"
     ]
    },
    {
     "name": "stderr",
     "output_type": "stream",
     "text": [
      " 50%|█████████████████████████████████▌                                 | 50/100 [00:53<00:46,  1.08it/s]"
     ]
    },
    {
     "name": "stdout",
     "output_type": "stream",
     "text": [
      "Epoch 50, Loss: 132.393310546875, Accuracy: 0.022304832935333252, Validation Loss: 134.83541870117188, Validation Accuracy: 0.019801979884505272\n"
     ]
    },
    {
     "name": "stderr",
     "output_type": "stream",
     "text": [
      " 51%|██████████████████████████████████▏                                | 51/100 [00:54<00:45,  1.07it/s]"
     ]
    },
    {
     "name": "stdout",
     "output_type": "stream",
     "text": [
      "Epoch 51, Loss: 132.4065399169922, Accuracy: 0.01734820380806923, Validation Loss: 134.8245086669922, Validation Accuracy: 0.019801979884505272\n"
     ]
    },
    {
     "name": "stderr",
     "output_type": "stream",
     "text": [
      " 52%|██████████████████████████████████▊                                | 52/100 [00:55<00:44,  1.08it/s]"
     ]
    },
    {
     "name": "stdout",
     "output_type": "stream",
     "text": [
      "Epoch 52, Loss: 132.38656616210938, Accuracy: 0.01858736015856266, Validation Loss: 134.83392333984375, Validation Accuracy: 0.019801979884505272\n"
     ]
    },
    {
     "name": "stderr",
     "output_type": "stream",
     "text": [
      " 53%|███████████████████████████████████▌                               | 53/100 [00:56<00:43,  1.09it/s]"
     ]
    },
    {
     "name": "stdout",
     "output_type": "stream",
     "text": [
      "Epoch 53, Loss: 132.40414428710938, Accuracy: 0.014869888313114643, Validation Loss: 134.83663940429688, Validation Accuracy: 0.039603959769010544\n"
     ]
    },
    {
     "name": "stderr",
     "output_type": "stream",
     "text": [
      " 54%|████████████████████████████████████▏                              | 54/100 [00:57<00:42,  1.09it/s]"
     ]
    },
    {
     "name": "stdout",
     "output_type": "stream",
     "text": [
      "Epoch 54, Loss: 132.38864135742188, Accuracy: 0.023543989285826683, Validation Loss: 134.82131958007812, Validation Accuracy: 0.029702970758080482\n"
     ]
    },
    {
     "name": "stderr",
     "output_type": "stream",
     "text": [
      " 55%|████████████████████████████████████▊                              | 55/100 [00:58<00:41,  1.09it/s]"
     ]
    },
    {
     "name": "stdout",
     "output_type": "stream",
     "text": [
      "Epoch 55, Loss: 132.38438415527344, Accuracy: 0.01982651837170124, Validation Loss: 134.84280395507812, Validation Accuracy: 0.039603959769010544\n"
     ]
    },
    {
     "name": "stderr",
     "output_type": "stream",
     "text": [
      " 56%|█████████████████████████████████████▌                             | 56/100 [00:59<00:40,  1.09it/s]"
     ]
    },
    {
     "name": "stdout",
     "output_type": "stream",
     "text": [
      "Epoch 56, Loss: 132.3929443359375, Accuracy: 0.02106567472219467, Validation Loss: 134.8768768310547, Validation Accuracy: 0.019801979884505272\n"
     ]
    },
    {
     "name": "stderr",
     "output_type": "stream",
     "text": [
      " 57%|██████████████████████████████████████▏                            | 57/100 [01:00<00:39,  1.08it/s]"
     ]
    },
    {
     "name": "stdout",
     "output_type": "stream",
     "text": [
      "Epoch 57, Loss: 132.3826904296875, Accuracy: 0.01858736015856266, Validation Loss: 134.81884765625, Validation Accuracy: 0.019801979884505272\n"
     ]
    },
    {
     "name": "stderr",
     "output_type": "stream",
     "text": [
      " 58%|██████████████████████████████████████▊                            | 58/100 [01:01<00:39,  1.08it/s]"
     ]
    },
    {
     "name": "stdout",
     "output_type": "stream",
     "text": [
      "Epoch 58, Loss: 132.3934783935547, Accuracy: 0.023543989285826683, Validation Loss: 134.90325927734375, Validation Accuracy: 0.019801979884505272\n"
     ]
    },
    {
     "name": "stderr",
     "output_type": "stream",
     "text": [
      " 59%|███████████████████████████████████████▌                           | 59/100 [01:02<00:38,  1.08it/s]"
     ]
    },
    {
     "name": "stdout",
     "output_type": "stream",
     "text": [
      "Epoch 59, Loss: 132.37838745117188, Accuracy: 0.01982651837170124, Validation Loss: 134.87652587890625, Validation Accuracy: 0.029702970758080482\n"
     ]
    },
    {
     "name": "stderr",
     "output_type": "stream",
     "text": [
      " 60%|████████████████████████████████████████▏                          | 60/100 [01:02<00:37,  1.08it/s]"
     ]
    },
    {
     "name": "stdout",
     "output_type": "stream",
     "text": [
      "Epoch 60, Loss: 132.38748168945312, Accuracy: 0.023543989285826683, Validation Loss: 134.84080505371094, Validation Accuracy: 0.019801979884505272\n"
     ]
    },
    {
     "name": "stderr",
     "output_type": "stream",
     "text": [
      " 61%|████████████████████████████████████████▊                          | 61/100 [01:03<00:36,  1.08it/s]"
     ]
    },
    {
     "name": "stdout",
     "output_type": "stream",
     "text": [
      "Epoch 61, Loss: 132.37637329101562, Accuracy: 0.02106567472219467, Validation Loss: 134.85659790039062, Validation Accuracy: 0.019801979884505272\n"
     ]
    },
    {
     "name": "stderr",
     "output_type": "stream",
     "text": [
      " 62%|█████████████████████████████████████████▌                         | 62/100 [01:04<00:35,  1.08it/s]"
     ]
    },
    {
     "name": "stdout",
     "output_type": "stream",
     "text": [
      "Epoch 62, Loss: 132.3850555419922, Accuracy: 0.022304832935333252, Validation Loss: 134.8287353515625, Validation Accuracy: 0.029702970758080482\n"
     ]
    },
    {
     "name": "stderr",
     "output_type": "stream",
     "text": [
      " 63%|██████████████████████████████████████████▏                        | 63/100 [01:05<00:34,  1.08it/s]"
     ]
    },
    {
     "name": "stdout",
     "output_type": "stream",
     "text": [
      "Epoch 63, Loss: 132.38392639160156, Accuracy: 0.01982651837170124, Validation Loss: 134.9881134033203, Validation Accuracy: 0.029702970758080482\n"
     ]
    },
    {
     "name": "stderr",
     "output_type": "stream",
     "text": [
      " 64%|██████████████████████████████████████████▉                        | 64/100 [01:06<00:33,  1.08it/s]"
     ]
    },
    {
     "name": "stdout",
     "output_type": "stream",
     "text": [
      "Epoch 64, Loss: 132.37657165527344, Accuracy: 0.022304832935333252, Validation Loss: 134.84417724609375, Validation Accuracy: 0.019801979884505272\n"
     ]
    },
    {
     "name": "stderr",
     "output_type": "stream",
     "text": [
      " 65%|███████████████████████████████████████████▌                       | 65/100 [01:07<00:32,  1.08it/s]"
     ]
    },
    {
     "name": "stdout",
     "output_type": "stream",
     "text": [
      "Epoch 65, Loss: 132.37860107421875, Accuracy: 0.026022305712103844, Validation Loss: 134.80718994140625, Validation Accuracy: 0.019801979884505272\n"
     ]
    },
    {
     "name": "stderr",
     "output_type": "stream",
     "text": [
      " 66%|████████████████████████████████████████████▏                      | 66/100 [01:08<00:31,  1.09it/s]"
     ]
    },
    {
     "name": "stdout",
     "output_type": "stream",
     "text": [
      "Epoch 66, Loss: 132.3826141357422, Accuracy: 0.023543989285826683, Validation Loss: 134.80380249023438, Validation Accuracy: 0.019801979884505272\n"
     ]
    },
    {
     "name": "stderr",
     "output_type": "stream",
     "text": [
      " 67%|████████████████████████████████████████████▉                      | 67/100 [01:09<00:30,  1.08it/s]"
     ]
    },
    {
     "name": "stdout",
     "output_type": "stream",
     "text": [
      "Epoch 67, Loss: 132.3746337890625, Accuracy: 0.01734820380806923, Validation Loss: 134.80506896972656, Validation Accuracy: 0.019801979884505272\n"
     ]
    },
    {
     "name": "stderr",
     "output_type": "stream",
     "text": [
      " 68%|█████████████████████████████████████████████▌                     | 68/100 [01:10<00:29,  1.08it/s]"
     ]
    },
    {
     "name": "stdout",
     "output_type": "stream",
     "text": [
      "Epoch 68, Loss: 132.36627197265625, Accuracy: 0.01982651837170124, Validation Loss: 134.83633422851562, Validation Accuracy: 0.019801979884505272\n"
     ]
    },
    {
     "name": "stderr",
     "output_type": "stream",
     "text": [
      " 69%|██████████████████████████████████████████████▏                    | 69/100 [01:11<00:28,  1.08it/s]"
     ]
    },
    {
     "name": "stdout",
     "output_type": "stream",
     "text": [
      "Epoch 69, Loss: 132.39019775390625, Accuracy: 0.024783147498965263, Validation Loss: 134.78732299804688, Validation Accuracy: 0.019801979884505272\n"
     ]
    },
    {
     "name": "stderr",
     "output_type": "stream",
     "text": [
      " 70%|██████████████████████████████████████████████▉                    | 70/100 [01:12<00:27,  1.08it/s]"
     ]
    },
    {
     "name": "stdout",
     "output_type": "stream",
     "text": [
      "Epoch 70, Loss: 132.37680053710938, Accuracy: 0.024783147498965263, Validation Loss: 134.79176330566406, Validation Accuracy: 0.019801979884505272\n"
     ]
    },
    {
     "name": "stderr",
     "output_type": "stream",
     "text": [
      " 71%|███████████████████████████████████████████████▌                   | 71/100 [01:13<00:26,  1.08it/s]"
     ]
    },
    {
     "name": "stdout",
     "output_type": "stream",
     "text": [
      "Epoch 71, Loss: 132.35269165039062, Accuracy: 0.02106567472219467, Validation Loss: 134.86097717285156, Validation Accuracy: 0.029702970758080482\n"
     ]
    },
    {
     "name": "stderr",
     "output_type": "stream",
     "text": [
      " 72%|████████████████████████████████████████████████▏                  | 72/100 [01:14<00:25,  1.08it/s]"
     ]
    },
    {
     "name": "stdout",
     "output_type": "stream",
     "text": [
      "Epoch 72, Loss: 132.38694763183594, Accuracy: 0.022304832935333252, Validation Loss: 134.85333251953125, Validation Accuracy: 0.029702970758080482\n"
     ]
    },
    {
     "name": "stderr",
     "output_type": "stream",
     "text": [
      " 73%|████████████████████████████████████████████████▉                  | 73/100 [01:14<00:24,  1.08it/s]"
     ]
    },
    {
     "name": "stdout",
     "output_type": "stream",
     "text": [
      "Epoch 73, Loss: 132.35665893554688, Accuracy: 0.02106567472219467, Validation Loss: 134.78611755371094, Validation Accuracy: 0.029702970758080482\n"
     ]
    },
    {
     "name": "stderr",
     "output_type": "stream",
     "text": [
      " 74%|█████████████████████████████████████████████████▌                 | 74/100 [01:15<00:24,  1.08it/s]"
     ]
    },
    {
     "name": "stdout",
     "output_type": "stream",
     "text": [
      "Epoch 74, Loss: 132.3585968017578, Accuracy: 0.022304832935333252, Validation Loss: 134.79417419433594, Validation Accuracy: 0.029702970758080482\n"
     ]
    },
    {
     "name": "stderr",
     "output_type": "stream",
     "text": [
      " 75%|██████████████████████████████████████████████████▎                | 75/100 [01:16<00:23,  1.08it/s]"
     ]
    },
    {
     "name": "stdout",
     "output_type": "stream",
     "text": [
      "Epoch 75, Loss: 132.37380981445312, Accuracy: 0.014869888313114643, Validation Loss: 134.88197326660156, Validation Accuracy: 0.029702970758080482\n"
     ]
    },
    {
     "name": "stderr",
     "output_type": "stream",
     "text": [
      " 76%|██████████████████████████████████████████████████▉                | 76/100 [01:17<00:22,  1.08it/s]"
     ]
    },
    {
     "name": "stdout",
     "output_type": "stream",
     "text": [
      "Epoch 76, Loss: 132.37091064453125, Accuracy: 0.02106567472219467, Validation Loss: 134.77810668945312, Validation Accuracy: 0.0\n"
     ]
    },
    {
     "name": "stderr",
     "output_type": "stream",
     "text": [
      " 77%|███████████████████████████████████████████████████▌               | 77/100 [01:18<00:21,  1.07it/s]"
     ]
    },
    {
     "name": "stdout",
     "output_type": "stream",
     "text": [
      "Epoch 77, Loss: 132.3667755126953, Accuracy: 0.01858736015856266, Validation Loss: 134.79574584960938, Validation Accuracy: 0.029702970758080482\n"
     ]
    },
    {
     "name": "stderr",
     "output_type": "stream",
     "text": [
      " 78%|████████████████████████████████████████████████████▎              | 78/100 [01:19<00:20,  1.08it/s]"
     ]
    },
    {
     "name": "stdout",
     "output_type": "stream",
     "text": [
      "Epoch 78, Loss: 133.90174865722656, Accuracy: 0.028500620275735855, Validation Loss: 135.9074249267578, Validation Accuracy: 0.029702970758080482\n"
     ]
    },
    {
     "name": "stderr",
     "output_type": "stream",
     "text": [
      " 79%|████████████████████████████████████████████████████▉              | 79/100 [01:20<00:19,  1.07it/s]"
     ]
    },
    {
     "name": "stdout",
     "output_type": "stream",
     "text": [
      "Epoch 79, Loss: 133.23721313476562, Accuracy: 0.011152416467666626, Validation Loss: 134.9493865966797, Validation Accuracy: 0.009900989942252636\n"
     ]
    },
    {
     "name": "stderr",
     "output_type": "stream",
     "text": [
      " 80%|█████████████████████████████████████████████████████▌             | 80/100 [01:21<00:18,  1.08it/s]"
     ]
    },
    {
     "name": "stdout",
     "output_type": "stream",
     "text": [
      "Epoch 80, Loss: 132.49449157714844, Accuracy: 0.0037174720782786608, Validation Loss: 134.9054718017578, Validation Accuracy: 0.019801979884505272\n"
     ]
    },
    {
     "name": "stderr",
     "output_type": "stream",
     "text": [
      " 81%|██████████████████████████████████████████████████████▎            | 81/100 [01:22<00:17,  1.07it/s]"
     ]
    },
    {
     "name": "stdout",
     "output_type": "stream",
     "text": [
      "Epoch 81, Loss: 132.44821166992188, Accuracy: 0.00495662959292531, Validation Loss: 134.96055603027344, Validation Accuracy: 0.009900989942252636\n"
     ]
    },
    {
     "name": "stderr",
     "output_type": "stream",
     "text": [
      " 82%|██████████████████████████████████████████████████████▉            | 82/100 [01:23<00:16,  1.07it/s]"
     ]
    },
    {
     "name": "stdout",
     "output_type": "stream",
     "text": [
      "Epoch 82, Loss: 132.50657653808594, Accuracy: 0.002478314796462655, Validation Loss: 134.88172912597656, Validation Accuracy: 0.009900989942252636\n"
     ]
    },
    {
     "name": "stderr",
     "output_type": "stream",
     "text": [
      " 83%|███████████████████████████████████████████████████████▌           | 83/100 [01:24<00:15,  1.08it/s]"
     ]
    },
    {
     "name": "stdout",
     "output_type": "stream",
     "text": [
      "Epoch 83, Loss: 132.41311645507812, Accuracy: 0.0037174720782786608, Validation Loss: 134.88958740234375, Validation Accuracy: 0.009900989942252636\n"
     ]
    },
    {
     "name": "stderr",
     "output_type": "stream",
     "text": [
      " 84%|████████████████████████████████████████████████████████▎          | 84/100 [01:25<00:14,  1.09it/s]"
     ]
    },
    {
     "name": "stdout",
     "output_type": "stream",
     "text": [
      "Epoch 84, Loss: 132.4066925048828, Accuracy: 0.0037174720782786608, Validation Loss: 134.82470703125, Validation Accuracy: 0.009900989942252636\n"
     ]
    },
    {
     "name": "stderr",
     "output_type": "stream",
     "text": [
      " 85%|████████████████████████████████████████████████████████▉          | 85/100 [01:26<00:13,  1.09it/s]"
     ]
    },
    {
     "name": "stdout",
     "output_type": "stream",
     "text": [
      "Epoch 85, Loss: 132.41336059570312, Accuracy: 0.006195786874741316, Validation Loss: 134.83633422851562, Validation Accuracy: 0.009900989942252636\n"
     ]
    },
    {
     "name": "stderr",
     "output_type": "stream",
     "text": [
      " 86%|█████████████████████████████████████████████████████████▌         | 86/100 [01:27<00:12,  1.09it/s]"
     ]
    },
    {
     "name": "stdout",
     "output_type": "stream",
     "text": [
      "Epoch 86, Loss: 132.41883850097656, Accuracy: 0.0037174720782786608, Validation Loss: 134.8129425048828, Validation Accuracy: 0.009900989942252636\n"
     ]
    },
    {
     "name": "stderr",
     "output_type": "stream",
     "text": [
      " 87%|██████████████████████████████████████████████████████████▎        | 87/100 [01:27<00:11,  1.09it/s]"
     ]
    },
    {
     "name": "stdout",
     "output_type": "stream",
     "text": [
      "Epoch 87, Loss: 132.4381561279297, Accuracy: 0.0037174720782786608, Validation Loss: 134.88018798828125, Validation Accuracy: 0.009900989942252636\n"
     ]
    },
    {
     "name": "stderr",
     "output_type": "stream",
     "text": [
      " 88%|██████████████████████████████████████████████████████████▉        | 88/100 [01:28<00:11,  1.08it/s]"
     ]
    },
    {
     "name": "stdout",
     "output_type": "stream",
     "text": [
      "Epoch 88, Loss: 132.4046173095703, Accuracy: 0.002478314796462655, Validation Loss: 134.8397216796875, Validation Accuracy: 0.009900989942252636\n"
     ]
    },
    {
     "name": "stderr",
     "output_type": "stream",
     "text": [
      " 89%|███████████████████████████████████████████████████████████▋       | 89/100 [01:29<00:10,  1.08it/s]"
     ]
    },
    {
     "name": "stdout",
     "output_type": "stream",
     "text": [
      "Epoch 89, Loss: 132.45875549316406, Accuracy: 0.0037174720782786608, Validation Loss: 134.94395446777344, Validation Accuracy: 0.009900989942252636\n"
     ]
    },
    {
     "name": "stderr",
     "output_type": "stream",
     "text": [
      " 90%|████████████████████████████████████████████████████████████▎      | 90/100 [01:30<00:09,  1.08it/s]"
     ]
    },
    {
     "name": "stdout",
     "output_type": "stream",
     "text": [
      "Epoch 90, Loss: 132.46656799316406, Accuracy: 0.0037174720782786608, Validation Loss: 134.82847595214844, Validation Accuracy: 0.009900989942252636\n"
     ]
    },
    {
     "name": "stderr",
     "output_type": "stream",
     "text": [
      " 91%|████████████████████████████████████████████████████████████▉      | 91/100 [01:31<00:08,  1.08it/s]"
     ]
    },
    {
     "name": "stdout",
     "output_type": "stream",
     "text": [
      "Epoch 91, Loss: 132.42013549804688, Accuracy: 0.0037174720782786608, Validation Loss: 134.89085388183594, Validation Accuracy: 0.009900989942252636\n"
     ]
    },
    {
     "name": "stderr",
     "output_type": "stream",
     "text": [
      " 92%|█████████████████████████████████████████████████████████████▋     | 92/100 [01:32<00:07,  1.08it/s]"
     ]
    },
    {
     "name": "stdout",
     "output_type": "stream",
     "text": [
      "Epoch 92, Loss: 132.41287231445312, Accuracy: 0.0037174720782786608, Validation Loss: 134.90940856933594, Validation Accuracy: 0.019801979884505272\n"
     ]
    },
    {
     "name": "stderr",
     "output_type": "stream",
     "text": [
      " 93%|██████████████████████████████████████████████████████████████▎    | 93/100 [01:33<00:06,  1.08it/s]"
     ]
    },
    {
     "name": "stdout",
     "output_type": "stream",
     "text": [
      "Epoch 93, Loss: 132.482666015625, Accuracy: 0.002478314796462655, Validation Loss: 134.8667449951172, Validation Accuracy: 0.019801979884505272\n"
     ]
    },
    {
     "name": "stderr",
     "output_type": "stream",
     "text": [
      " 94%|██████████████████████████████████████████████████████████████▉    | 94/100 [01:34<00:05,  1.08it/s]"
     ]
    },
    {
     "name": "stdout",
     "output_type": "stream",
     "text": [
      "Epoch 94, Loss: 132.40707397460938, Accuracy: 0.002478314796462655, Validation Loss: 134.8650360107422, Validation Accuracy: 0.009900989942252636\n"
     ]
    },
    {
     "name": "stderr",
     "output_type": "stream",
     "text": [
      " 95%|███████████████████████████████████████████████████████████████▋   | 95/100 [01:35<00:04,  1.08it/s]"
     ]
    },
    {
     "name": "stdout",
     "output_type": "stream",
     "text": [
      "Epoch 95, Loss: 132.39939880371094, Accuracy: 0.002478314796462655, Validation Loss: 134.83006286621094, Validation Accuracy: 0.009900989942252636\n"
     ]
    },
    {
     "name": "stderr",
     "output_type": "stream",
     "text": [
      " 96%|████████████████████████████████████████████████████████████████▎  | 96/100 [01:36<00:03,  1.08it/s]"
     ]
    },
    {
     "name": "stdout",
     "output_type": "stream",
     "text": [
      "Epoch 96, Loss: 132.39588928222656, Accuracy: 0.0037174720782786608, Validation Loss: 134.9175567626953, Validation Accuracy: 0.009900989942252636\n"
     ]
    },
    {
     "name": "stderr",
     "output_type": "stream",
     "text": [
      " 97%|████████████████████████████████████████████████████████████████▉  | 97/100 [01:37<00:02,  1.08it/s]"
     ]
    },
    {
     "name": "stdout",
     "output_type": "stream",
     "text": [
      "Epoch 97, Loss: 132.397216796875, Accuracy: 0.00495662959292531, Validation Loss: 134.8150177001953, Validation Accuracy: 0.009900989942252636\n"
     ]
    },
    {
     "name": "stderr",
     "output_type": "stream",
     "text": [
      " 98%|█████████████████████████████████████████████████████████████████▋ | 98/100 [01:38<00:01,  1.08it/s]"
     ]
    },
    {
     "name": "stdout",
     "output_type": "stream",
     "text": [
      "Epoch 98, Loss: 132.41775512695312, Accuracy: 0.0037174720782786608, Validation Loss: 134.94427490234375, Validation Accuracy: 0.019801979884505272\n"
     ]
    },
    {
     "name": "stderr",
     "output_type": "stream",
     "text": [
      " 99%|██████████████████████████████████████████████████████████████████▎| 99/100 [01:39<00:00,  1.08it/s]"
     ]
    },
    {
     "name": "stdout",
     "output_type": "stream",
     "text": [
      "Epoch 99, Loss: 132.39999389648438, Accuracy: 0.002478314796462655, Validation Loss: 134.8787841796875, Validation Accuracy: 0.009900989942252636\n"
     ]
    },
    {
     "name": "stderr",
     "output_type": "stream",
     "text": [
      "100%|██████████████████████████████████████████████████████████████████| 100/100 [01:40<00:00,  1.00s/it]"
     ]
    },
    {
     "name": "stdout",
     "output_type": "stream",
     "text": [
      "Epoch 100, Loss: 132.37986755371094, Accuracy: 0.002478314796462655, Validation Loss: 134.8252410888672, Validation Accuracy: 0.009900989942252636\n"
     ]
    },
    {
     "name": "stderr",
     "output_type": "stream",
     "text": [
      "\n"
     ]
    }
   ],
   "source": [
    "# Define model\n",
    "class DNNModel(tf.keras.Model):\n",
    "\n",
    "    def __init__(self):\n",
    "        super().__init__()\n",
    "        # Single dense layer\n",
    "        self.layer1 = tf.keras.layers.Dense(35, activation='relu')\n",
    "        self.layer2 = tf.keras.layers.Dense(35, activation='relu')\n",
    "        self.layer3 = tf.keras.layers.Dense(35, activation='relu')\n",
    "        self.layer4 = tf.keras.layers.Dense(35, activation='relu')\n",
    "        self.layer5 = tf.keras.layers.Dense(1)\n",
    "        \n",
    "    def call(self, input):\n",
    "        input = self.layer1(input)\n",
    "        input = self.layer2(input)\n",
    "        input = self.layer3(input)\n",
    "        input = self.layer4(input)\n",
    "        return self.layer5(input)\n",
    "\n",
    "model = DNNModel()\n",
    "\n",
    "# Choose optimizer and loss function\n",
    "optimizer = tf.keras.optimizers.Adam()\n",
    "loss_func = tf.keras.losses.CategoricalCrossentropy()\n",
    "\n",
    "train_loss = tf.keras.metrics.Mean(name='train_loss')\n",
    "train_accuracy = tf.keras.metrics.CategoricalAccuracy(name='train_accuracy')\n",
    "\n",
    "valid_loss = tf.keras.metrics.Mean(name='validation_loss')\n",
    "valid_accuracy = tf.keras.metrics.CategoricalAccuracy(name='validation_accuracy')\n",
    "\n",
    "\n",
    "# Define training step\n",
    "@tf.function\n",
    "def train_step(match_states, outcomes):\n",
    "    with tf.GradientTape() as tape:\n",
    "        \n",
    "        predictions = tf.squeeze(model(match_states))\n",
    "        loss = loss_func(outcomes, predictions)\n",
    "    gradients = tape.gradient(loss, model.trainable_variables)\n",
    "    optimizer.apply_gradients(zip(gradients, model.trainable_variables))\n",
    "\n",
    "    train_loss(loss)\n",
    "    train_accuracy(outcomes, predictions)\n",
    "\n",
    "# Define testing step\n",
    "@tf.function\n",
    "def test_step(match_states, outcomes):\n",
    "    predictions = tf.squeeze(model(match_states))\n",
    "    loss = loss_func(outcomes, predictions)\n",
    "\n",
    "    valid_loss(loss)\n",
    "    valid_accuracy(outcomes, predictions)\n",
    "\n",
    "# Set output\n",
    "output_dir = './output'\n",
    "output_prefix = os.path.join(output_dir, \"DNN_2l_20\")\n",
    "\n",
    "\n",
    "# Run\n",
    "EPOCHS = 100\n",
    "\n",
    "for epoch in tqdm(range(EPOCHS)):\n",
    "    train_loss.reset_states()\n",
    "    train_accuracy.reset_states()\n",
    "    valid_loss.reset_states()\n",
    "    valid_accuracy.reset_states()\n",
    "\n",
    "    for match_states, outcomes in train_batched:\n",
    "        train_step(match_states, outcomes)\n",
    "\n",
    "    for match_states, outcomes in valid_batched:\n",
    "        test_step(match_states, outcomes)\n",
    "\n",
    "    if epoch % 10 == 0:\n",
    "        model.save_weights(output_prefix)\n",
    "\n",
    "    print(\n",
    "    f'Epoch {epoch + 1}, '\n",
    "    f'Loss: {train_loss.result()}, '\n",
    "    f'Accuracy: {train_accuracy.result()}, '\n",
    "    f'Validation Loss: {valid_loss.result()}, '\n",
    "    f'Validation Accuracy: {valid_accuracy.result()}'\n",
    "  )\n",
    "\n",
    "model.save_weights(output_prefix)"
   ]
  },
  {
   "cell_type": "code",
   "execution_count": null,
   "id": "00c8fcc6-ab7f-456a-ab6a-6cbc072e5998",
   "metadata": {},
   "outputs": [],
   "source": []
  }
 ],
 "metadata": {
  "kernelspec": {
   "display_name": "Python 3 (ipykernel)",
   "language": "python",
   "name": "python3"
  },
  "language_info": {
   "codemirror_mode": {
    "name": "ipython",
    "version": 3
   },
   "file_extension": ".py",
   "mimetype": "text/x-python",
   "name": "python",
   "nbconvert_exporter": "python",
   "pygments_lexer": "ipython3",
   "version": "3.10.12"
  }
 },
 "nbformat": 4,
 "nbformat_minor": 5
}
